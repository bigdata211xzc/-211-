{
 "cells": [
  {
   "cell_type": "markdown",
   "id": "0c10b4bf",
   "metadata": {},
   "source": [
    "#关于pandas库的学习"
   ]
  },
  {
   "cell_type": "code",
   "execution_count": 1,
   "id": "d7d78c63",
   "metadata": {},
   "outputs": [],
   "source": [
    "import pandas as pd"
   ]
  },
  {
   "cell_type": "code",
   "execution_count": 3,
   "id": "966613e5",
   "metadata": {},
   "outputs": [],
   "source": [
    "series = pd.Series([1,2,3,4,5])"
   ]
  },
  {
   "cell_type": "code",
   "execution_count": 4,
   "id": "a2914d40",
   "metadata": {},
   "outputs": [
    {
     "name": "stdout",
     "output_type": "stream",
     "text": [
      "0    1\n",
      "1    2\n",
      "2    3\n",
      "3    4\n",
      "4    5\n",
      "dtype: int64\n"
     ]
    }
   ],
   "source": [
    "print(series)"
   ]
  },
  {
   "cell_type": "markdown",
   "id": "548f8dbc",
   "metadata": {},
   "source": [
    "#通过index创建Series对象"
   ]
  },
  {
   "cell_type": "code",
   "execution_count": 14,
   "id": "8d90d648",
   "metadata": {},
   "outputs": [],
   "source": [
    "list1 = [0,1,2,3,4]"
   ]
  },
  {
   "cell_type": "code",
   "execution_count": 15,
   "id": "499c88a1",
   "metadata": {},
   "outputs": [],
   "source": [
    "i = ['a','b','c','d','e']"
   ]
  },
  {
   "cell_type": "code",
   "execution_count": 18,
   "id": "3ae2b3e6",
   "metadata": {},
   "outputs": [
    {
     "name": "stdout",
     "output_type": "stream",
     "text": [
      "通过list创建的series为：\n",
      " a    0\n",
      "b    1\n",
      "c    2\n",
      "d    3\n",
      "e    4\n",
      "Name: list, dtype: int64\n"
     ]
    }
   ],
   "source": [
    "print('通过list创建的series为：\\n',pd.Series(list1,index=i,name='list'))"
   ]
  },
  {
   "cell_type": "markdown",
   "id": "61fe922f",
   "metadata": {},
   "source": [
    "#通过dict创建Series对象"
   ]
  },
  {
   "cell_type": "code",
   "execution_count": 20,
   "id": "1ce81e35",
   "metadata": {},
   "outputs": [],
   "source": [
    "dict = {\"a\":0,\"b\":1,\"c\":5}"
   ]
  },
  {
   "cell_type": "code",
   "execution_count": 21,
   "id": "e0cecc94",
   "metadata": {},
   "outputs": [],
   "source": [
    "letter = [\"a\",\"b\",\"c\",\"e\"]"
   ]
  },
  {
   "cell_type": "code",
   "execution_count": 22,
   "id": "1565844f",
   "metadata": {},
   "outputs": [
    {
     "name": "stdout",
     "output_type": "stream",
     "text": [
      "a    0.0\n",
      "b    1.0\n",
      "c    5.0\n",
      "e    NaN\n",
      "dtype: float64\n"
     ]
    }
   ],
   "source": [
    "print(pd.Series(dict,index=letter))"
   ]
  },
  {
   "cell_type": "markdown",
   "id": "e7300356",
   "metadata": {},
   "source": [
    "#通过ndarray创建Series"
   ]
  },
  {
   "cell_type": "code",
   "execution_count": 23,
   "id": "5a23505c",
   "metadata": {},
   "outputs": [],
   "source": [
    "import pandas as pd"
   ]
  },
  {
   "cell_type": "code",
   "execution_count": 24,
   "id": "2780512a",
   "metadata": {},
   "outputs": [],
   "source": [
    "import numpy as np"
   ]
  },
  {
   "cell_type": "code",
   "execution_count": 29,
   "id": "87f7a5e6",
   "metadata": {},
   "outputs": [
    {
     "name": "stdout",
     "output_type": "stream",
     "text": [
      "通过ndarray创建的Series为：\n",
      " a    0\n",
      "b    1\n",
      "c    2\n",
      "Name: ndarray, dtype: int32\n"
     ]
    }
   ],
   "source": [
    "print('通过ndarray创建的Series为：\\n',pd.Series(np.arange(3),index = ['a','b','c'],name = 'ndarray'))"
   ]
  },
  {
   "cell_type": "markdown",
   "id": "f68ea981",
   "metadata": {},
   "source": [
    "#操作Series"
   ]
  },
  {
   "cell_type": "code",
   "execution_count": 1,
   "id": "fc994df8",
   "metadata": {},
   "outputs": [],
   "source": [
    "import pandas as pd"
   ]
  },
  {
   "cell_type": "code",
   "execution_count": 2,
   "id": "db2d8ba0",
   "metadata": {},
   "outputs": [],
   "source": [
    "list1 = [1,2,3,4,5]"
   ]
  },
  {
   "cell_type": "code",
   "execution_count": 6,
   "id": "8eb1fc75",
   "metadata": {},
   "outputs": [
    {
     "name": "stdout",
     "output_type": "stream",
     "text": [
      "Series1:\n",
      "a    1\n",
      "b    2\n",
      "c    3\n",
      "d    4\n",
      "e    5\n",
      "Name: list, dtype: int64\n",
      "\n"
     ]
    }
   ],
   "source": [
    "series1 = pd.Series(list1,index = ['a','b','c','d','e'],name = 'list')\n",
    "print(\"Series1:\\n{}\\n\".format(series1))"
   ]
  },
  {
   "cell_type": "code",
   "execution_count": 8,
   "id": "20019da6",
   "metadata": {},
   "outputs": [],
   "source": [
    "series1['a'] = 3"
   ]
  },
  {
   "cell_type": "code",
   "execution_count": 9,
   "id": "fa4ac7fa",
   "metadata": {},
   "outputs": [
    {
     "name": "stdout",
     "output_type": "stream",
     "text": [
      "a    3\n",
      "b    2\n",
      "c    3\n",
      "d    4\n",
      "e    5\n",
      "Name: list, dtype: int64\n"
     ]
    }
   ],
   "source": [
    "print(series1)"
   ]
  },
  {
   "cell_type": "code",
   "execution_count": 10,
   "id": "86de41cf",
   "metadata": {},
   "outputs": [],
   "source": [
    "series2 = pd.Series([4,5],index = ['f','g'])"
   ]
  },
  {
   "cell_type": "code",
   "execution_count": 11,
   "id": "8ac43ee6",
   "metadata": {},
   "outputs": [
    {
     "name": "stdout",
     "output_type": "stream",
     "text": [
      "a    3\n",
      "b    2\n",
      "c    3\n",
      "d    4\n",
      "e    5\n",
      "f    4\n",
      "g    5\n",
      "dtype: int64\n"
     ]
    },
    {
     "name": "stderr",
     "output_type": "stream",
     "text": [
      "C:\\Users\\陈平安\\AppData\\Local\\Temp\\ipykernel_7004\\3413698158.py:1: FutureWarning: The series.append method is deprecated and will be removed from pandas in a future version. Use pandas.concat instead.\n",
      "  print(series1.append(series2))\n"
     ]
    }
   ],
   "source": [
    "print(series1.append(series2))"
   ]
  },
  {
   "cell_type": "code",
   "execution_count": 12,
   "id": "fa563f61",
   "metadata": {},
   "outputs": [],
   "source": [
    "series1.drop('e',inplace = True)"
   ]
  },
  {
   "cell_type": "code",
   "execution_count": 13,
   "id": "9800206d",
   "metadata": {},
   "outputs": [
    {
     "name": "stdout",
     "output_type": "stream",
     "text": [
      "a    3\n",
      "b    2\n",
      "c    3\n",
      "d    4\n",
      "Name: list, dtype: int64\n"
     ]
    }
   ],
   "source": [
    "print(series1)"
   ]
  }
 ],
 "metadata": {
  "kernelspec": {
   "display_name": "Python 3 (ipykernel)",
   "language": "python",
   "name": "python3"
  },
  "language_info": {
   "codemirror_mode": {
    "name": "ipython",
    "version": 3
   },
   "file_extension": ".py",
   "mimetype": "text/x-python",
   "name": "python",
   "nbconvert_exporter": "python",
   "pygments_lexer": "ipython3",
   "version": "3.10.9"
  }
 },
 "nbformat": 4,
 "nbformat_minor": 5
}
