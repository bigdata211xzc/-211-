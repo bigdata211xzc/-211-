{
 "cells": [
  {
   "cell_type": "code",
   "execution_count": 2,
   "id": "94595bc0",
   "metadata": {},
   "outputs": [],
   "source": [
    "import numpy as np"
   ]
  },
  {
   "cell_type": "code",
   "execution_count": 3,
   "id": "f07d7d68",
   "metadata": {},
   "outputs": [],
   "source": [
    "a = np.array([1,2,3])"
   ]
  },
  {
   "cell_type": "code",
   "execution_count": 4,
   "id": "87dbec60",
   "metadata": {},
   "outputs": [
    {
     "name": "stdout",
     "output_type": "stream",
     "text": [
      "[1 2 3]\n"
     ]
    }
   ],
   "source": [
    "print(a)"
   ]
  },
  {
   "cell_type": "code",
   "execution_count": 6,
   "id": "309c19d2",
   "metadata": {},
   "outputs": [],
   "source": [
    "b = np.array([[1,2],[3,4]])"
   ]
  },
  {
   "cell_type": "code",
   "execution_count": 7,
   "id": "035d2846",
   "metadata": {},
   "outputs": [
    {
     "name": "stdout",
     "output_type": "stream",
     "text": [
      "[[1 2]\n",
      " [3 4]]\n"
     ]
    }
   ],
   "source": [
    "print(b)"
   ]
  },
  {
   "cell_type": "code",
   "execution_count": 8,
   "id": "fe09cd8b",
   "metadata": {},
   "outputs": [],
   "source": [
    "c = np.array([1,2,3,4,5],ndmin = 2)"
   ]
  },
  {
   "cell_type": "code",
   "execution_count": 9,
   "id": "7f3eb5e4",
   "metadata": {},
   "outputs": [
    {
     "name": "stdout",
     "output_type": "stream",
     "text": [
      "[[1 2 3 4 5]]\n"
     ]
    }
   ],
   "source": [
    "print(c)"
   ]
  },
  {
   "cell_type": "code",
   "execution_count": 10,
   "id": "a0f5b160",
   "metadata": {},
   "outputs": [],
   "source": [
    "d = np.array([1,2,3],dtype = complex)"
   ]
  },
  {
   "cell_type": "code",
   "execution_count": 11,
   "id": "9c6b4b04",
   "metadata": {},
   "outputs": [
    {
     "name": "stdout",
     "output_type": "stream",
     "text": [
      "[1.+0.j 2.+0.j 3.+0.j]\n"
     ]
    }
   ],
   "source": [
    "print(d)"
   ]
  },
  {
   "cell_type": "code",
   "execution_count": 12,
   "id": "8dfcf82c",
   "metadata": {},
   "outputs": [
    {
     "name": "stdout",
     "output_type": "stream",
     "text": [
      "[[1 3]\n",
      " [2 4]]\n"
     ]
    }
   ],
   "source": [
    "print(b.T)"
   ]
  },
  {
   "cell_type": "code",
   "execution_count": 13,
   "id": "4a4b5c3c",
   "metadata": {},
   "outputs": [
    {
     "name": "stdout",
     "output_type": "stream",
     "text": [
      "<class 'numpy.ndarray'>\n"
     ]
    }
   ],
   "source": [
    "print(type(a))"
   ]
  },
  {
   "cell_type": "code",
   "execution_count": 14,
   "id": "8df84e32",
   "metadata": {},
   "outputs": [
    {
     "name": "stdout",
     "output_type": "stream",
     "text": [
      "<class 'numpy.ndarray'>\n"
     ]
    }
   ],
   "source": [
    "print(type(b))"
   ]
  },
  {
   "cell_type": "code",
   "execution_count": 16,
   "id": "523f4742",
   "metadata": {},
   "outputs": [
    {
     "name": "stdout",
     "output_type": "stream",
     "text": [
      "int32\n"
     ]
    }
   ],
   "source": [
    "print(a.dtype)"
   ]
  },
  {
   "cell_type": "code",
   "execution_count": 18,
   "id": "b8c85e05",
   "metadata": {},
   "outputs": [],
   "source": [
    "x = np.zeros(5)"
   ]
  },
  {
   "cell_type": "code",
   "execution_count": 19,
   "id": "04a89956",
   "metadata": {},
   "outputs": [
    {
     "name": "stdout",
     "output_type": "stream",
     "text": [
      "[0. 0. 0. 0. 0.]\n"
     ]
    }
   ],
   "source": [
    "print(x)"
   ]
  },
  {
   "cell_type": "code",
   "execution_count": 23,
   "id": "30515bff",
   "metadata": {},
   "outputs": [
    {
     "name": "stderr",
     "output_type": "stream",
     "text": [
      "C:\\Users\\陈平安\\AppData\\Local\\Temp\\ipykernel_10656\\3600516357.py:1: DeprecationWarning: `np.int` is a deprecated alias for the builtin `int`. To silence this warning, use `int` by itself. Doing this will not modify any behavior and is safe. When replacing `np.int`, you may wish to use e.g. `np.int64` or `np.int32` to specify the precision. If you wish to review your current use, check the release note link for additional information.\n",
      "Deprecated in NumPy 1.20; for more details and guidance: https://numpy.org/devdocs/release/1.20.0-notes.html#deprecations\n",
      "  y = np.zeros((5,) , dtype = np .int)\n"
     ]
    }
   ],
   "source": [
    "y = np.zeros((5,) , dtype = np .int)"
   ]
  },
  {
   "cell_type": "code",
   "execution_count": 24,
   "id": "ce05fb02",
   "metadata": {},
   "outputs": [
    {
     "name": "stdout",
     "output_type": "stream",
     "text": [
      "[0 0 0 0 0]\n"
     ]
    }
   ],
   "source": [
    "print(y)"
   ]
  },
  {
   "cell_type": "code",
   "execution_count": 25,
   "id": "53ef6563",
   "metadata": {},
   "outputs": [],
   "source": [
    "z = np.zeros((2,2,),dtype = [('x','i4'),('y','i4')])"
   ]
  },
  {
   "cell_type": "code",
   "execution_count": 26,
   "id": "924da46c",
   "metadata": {},
   "outputs": [
    {
     "name": "stdout",
     "output_type": "stream",
     "text": [
      "[[(0, 0) (0, 0)]\n",
      " [(0, 0) (0, 0)]]\n"
     ]
    }
   ],
   "source": [
    "print(z)"
   ]
  },
  {
   "cell_type": "code",
   "execution_count": 1,
   "id": "e381cb01",
   "metadata": {},
   "outputs": [
    {
     "name": "stdout",
     "output_type": "stream",
     "text": [
      "[1. 1. 1. 1. 1.]\n",
      "[[1 1]\n",
      " [1 1]]\n"
     ]
    }
   ],
   "source": [
    "import numpy as np\n",
    "x = np.ones(5)\n",
    "print(x)\n",
    "x = np.ones([2,2],dtype=int)\n",
    "print(x)"
   ]
  },
  {
   "cell_type": "code",
   "execution_count": 2,
   "id": "201cd1f0",
   "metadata": {},
   "outputs": [
    {
     "name": "stdout",
     "output_type": "stream",
     "text": [
      "[[1 0 0]\n",
      " [0 2 0]\n",
      " [0 0 3]]\n"
     ]
    }
   ],
   "source": [
    "x = np.diag([1,2,3])\n",
    "print(x)"
   ]
  },
  {
   "cell_type": "code",
   "execution_count": 3,
   "id": "5ffb26da",
   "metadata": {},
   "outputs": [
    {
     "name": "stdout",
     "output_type": "stream",
     "text": [
      "[0 1 2 3 4 5 6 7 8 9]\n",
      "[1.  1.1 1.2 1.3 1.4 1.5 1.6 1.7 1.8 1.9]\n"
     ]
    }
   ],
   "source": [
    "a = np.arange(10)\n",
    "print(a)\n",
    "a5 = np.arange(1,2,0.1)\n",
    "print(a5)"
   ]
  },
  {
   "cell_type": "code",
   "execution_count": 4,
   "id": "5ebd57d5",
   "metadata": {},
   "outputs": [
    {
     "name": "stdout",
     "output_type": "stream",
     "text": [
      "[0.         0.11111111 0.22222222 0.33333333 0.44444444 0.55555556\n",
      " 0.66666667 0.77777778 0.88888889 1.        ]\n"
     ]
    }
   ],
   "source": [
    "a = np.linspace(0,1,10)\n",
    "print(a)"
   ]
  },
  {
   "cell_type": "code",
   "execution_count": 5,
   "id": "2ad94433",
   "metadata": {},
   "outputs": [
    {
     "name": "stdout",
     "output_type": "stream",
     "text": [
      "[ 1.          1.77827941  3.16227766  5.62341325 10.        ]\n"
     ]
    }
   ],
   "source": [
    "a = np.logspace(0,1,5)\n",
    "print(a)"
   ]
  },
  {
   "cell_type": "code",
   "execution_count": 6,
   "id": "f58dda32",
   "metadata": {},
   "outputs": [
    {
     "name": "stdout",
     "output_type": "stream",
     "text": [
      "[1 2 3 4 5 6]\n"
     ]
    }
   ],
   "source": [
    "a = np.array([1,2,3,4,5,6])\n",
    "print(a)"
   ]
  },
  {
   "cell_type": "code",
   "execution_count": 7,
   "id": "a4de1107",
   "metadata": {},
   "outputs": [
    {
     "name": "stdout",
     "output_type": "stream",
     "text": [
      "[[1 2 3]\n",
      " [4 5 6]]\n",
      "[1 2 3 4 5 6]\n",
      "[1 2 3 4 5 6]\n",
      "[1 2 3 4 5 6]\n"
     ]
    }
   ],
   "source": [
    "a = np.array([[1,2,3],[4,5,6]])\n",
    "b = a.flatten()\n",
    "c = a.ravel()\n",
    "d = a.reshape(-1)\n",
    "print(a)\n",
    "print(b)\n",
    "print(c)\n",
    "print(d)"
   ]
  },
  {
   "cell_type": "code",
   "execution_count": 8,
   "id": "28ad8d70",
   "metadata": {},
   "outputs": [
    {
     "name": "stdout",
     "output_type": "stream",
     "text": [
      "[[1 2 3]\n",
      " [4 5 6]]\n",
      "[[1 4]\n",
      " [2 5]\n",
      " [3 6]]\n",
      "[[1 4]\n",
      " [2 5]\n",
      " [3 6]]\n",
      "[[1 4]\n",
      " [2 5]\n",
      " [3 6]]\n",
      "[[1 4]\n",
      " [2 5]\n",
      " [3 6]]\n"
     ]
    }
   ],
   "source": [
    "a = np.array([[1,2,3],[4,5,6]])\n",
    "b = a.transpose()\n",
    "c = a.T\n",
    "d = a.swapaxes(0,1)\n",
    "e = np.transpose(a,(1,0))\n",
    "print(a)\n",
    "print(b)\n",
    "print(c)\n",
    "print(d)\n",
    "print(e)"
   ]
  },
  {
   "cell_type": "code",
   "execution_count": 9,
   "id": "ca3ea06e",
   "metadata": {},
   "outputs": [
    {
     "name": "stdout",
     "output_type": "stream",
     "text": [
      "[[0 1]\n",
      " [2 3]\n",
      " [4 5]]\n",
      "[[ 0  2]\n",
      " [ 4  6]\n",
      " [ 8 10]]\n",
      "[[ 0  1]\n",
      " [ 2  3]\n",
      " [ 4  5]\n",
      " [ 0  2]\n",
      " [ 4  6]\n",
      " [ 8 10]]\n"
     ]
    }
   ],
   "source": [
    "a = np.arange(6).reshape(3,2)\n",
    "b = a*2\n",
    "c = np.vstack((a,b))\n",
    "print(a)\n",
    "print(b)\n",
    "print(c)"
   ]
  },
  {
   "cell_type": "code",
   "execution_count": 10,
   "id": "eb0d224e",
   "metadata": {},
   "outputs": [
    {
     "name": "stdout",
     "output_type": "stream",
     "text": [
      "[[1 2 3]\n",
      " [4 5 6]]\n",
      "[[2 3 4]\n",
      " [5 6 7]]\n",
      "[[1 2 3]\n",
      " [4 5 6]\n",
      " [2 3 4]\n",
      " [5 6 7]]\n",
      "[[1 2 3 2 3 4]\n",
      " [4 5 6 5 6 7]]\n"
     ]
    }
   ],
   "source": [
    "a = np.array([[1,2,3],[4,5,6]])\n",
    "b = np.arange(2,8).reshape(2,3)\n",
    "c1 = np.concatenate([a,b],axis=0)\n",
    "d1 = np.concatenate([a,b],axis=1)\n",
    "print(a)\n",
    "print(b)\n",
    "print(c1)\n",
    "print(d1)"
   ]
  },
  {
   "cell_type": "code",
   "execution_count": 11,
   "id": "0b93e760",
   "metadata": {},
   "outputs": [
    {
     "name": "stdout",
     "output_type": "stream",
     "text": [
      "[[ 1  2  3]\n",
      " [ 4  5  6]\n",
      " [ 7  8  9]\n",
      " [10 11 12]\n",
      " [13 14 15]\n",
      " [16 17 18]]\n",
      "[[ 1  2  3]\n",
      " [ 4  5  6]\n",
      " [ 7  8  9]\n",
      " [10 11 12]]\n",
      "[[13 14 15]\n",
      " [16 17 18]]\n",
      "[[ 1  2  3]\n",
      " [ 4  5  6]\n",
      " [ 7  8  9]\n",
      " [10 11 12]]\n",
      "[[13 14 15]\n",
      " [16 17 18]]\n"
     ]
    }
   ],
   "source": [
    "a = np.arange(1,19).reshape(6,3)\n",
    "b,c = np.split(a,[4],axis=0)\n",
    "d,e = np.vsplit(a,[4])\n",
    "print(a)\n",
    "print(b)\n",
    "print(c)\n",
    "print(d)\n",
    "print(e)"
   ]
  },
  {
   "cell_type": "code",
   "execution_count": 12,
   "id": "8c60dfea",
   "metadata": {},
   "outputs": [
    {
     "name": "stdout",
     "output_type": "stream",
     "text": [
      "[[ 1  2  3  4  5  6]\n",
      " [ 7  8  9 10 11 12]]\n",
      "[[ 1  2  3  4  5]\n",
      " [ 7  8  9 10 11]]\n",
      "[[ 6]\n",
      " [12]]\n",
      "[[ 1  2  3  4  5]\n",
      " [ 7  8  9 10 11]]\n"
     ]
    }
   ],
   "source": [
    "a = np.arange(1,13).reshape(2,6)\n",
    "b,c = np.split(a,[-1],axis=1)\n",
    "d,e = np.hsplit(a,[-1])\n",
    "print(a)\n",
    "print(b)\n",
    "print(c)\n",
    "print(d)"
   ]
  },
  {
   "cell_type": "code",
   "execution_count": 13,
   "id": "04c4cdb6",
   "metadata": {},
   "outputs": [
    {
     "name": "stdout",
     "output_type": "stream",
     "text": [
      "True False False\n",
      "[1 2 3] [10  2  3]\n",
      "[100   2   3] [100   2   3]\n"
     ]
    }
   ],
   "source": [
    "a = np.array([1,2,3])\n",
    "b = a\n",
    "c = a[:]\n",
    "d = np.copy(a)\n",
    "print(b is a,c is a,d is a)\n",
    "d[0] = 10\n",
    "print(a,d)\n",
    "c[0] = 100\n",
    "print(a,c)"
   ]
  },
  {
   "cell_type": "code",
   "execution_count": 14,
   "id": "37a49d1e",
   "metadata": {},
   "outputs": [
    {
     "name": "stdout",
     "output_type": "stream",
     "text": [
      "[[ 2  7  7]\n",
      " [ 7  9 13]\n",
      " [12  9 11]]\n",
      "[[ 0 -3 -1]\n",
      " [ 1  1 -1]\n",
      " [-2 -1 -1]]\n",
      "[[1.         0.4        0.75      ]\n",
      " [1.33333333 1.25       0.85714286]\n",
      " [0.71428571 0.8        0.83333333]]\n",
      "[[0 2 3]\n",
      " [1 1 6]\n",
      " [5 4 5]]\n",
      "[[     1     32     81]\n",
      " [    64    625 279936]\n",
      " [ 78125   1024  15625]]\n"
     ]
    }
   ],
   "source": [
    "import numpy as np\n",
    "import numpy.linalg as lg\n",
    "a1 = np.array([[1,2,3],[4,5,6],[5,4,5]])\n",
    "a5 = np.array([[1,5,4],[3,4,7],[7,5,6]])\n",
    "print(a1+a5)\n",
    "print(a1-a5)\n",
    "print(a1/a5)\n",
    "print(a1 % a5)\n",
    "print(a1 ** a5)"
   ]
  },
  {
   "cell_type": "code",
   "execution_count": 15,
   "id": "f0134fc4",
   "metadata": {},
   "outputs": [
    {
     "name": "stdout",
     "output_type": "stream",
     "text": [
      "计算3x3方阵的特征根和特征向量：\n",
      " [[1 2 3]\n",
      " [3 6 7]\n",
      " [4 2 9]]\n",
      "求解结果为：\n",
      " (array([13.10729668, -0.28784952,  3.18055283]), array([[-0.2754406 , -0.91822111, -0.20009533],\n",
      "       [-0.73107224, -0.00282187, -0.87610721],\n",
      "       [-0.62423221,  0.39605812,  0.43863199]]))\n"
     ]
    }
   ],
   "source": [
    "arr = np.array([[1,2,3],[3,6,7],[4,2,9]])\n",
    "print('计算3x3方阵的特征根和特征向量：\\n',arr)\n",
    "print('求解结果为：\\n',np.linalg.eig(arr))"
   ]
  },
  {
   "cell_type": "code",
   "execution_count": 16,
   "id": "8feeb954",
   "metadata": {},
   "outputs": [
    {
     "name": "stdout",
     "output_type": "stream",
     "text": [
      "121\n",
      "165\n",
      "数组是：\n",
      "[[3 2 5]\n",
      " [7 4 3]\n",
      " [2 4 9]]\n",
      "\n",
      "\n",
      "调用amin()函数\n",
      "[2 3 2]\n",
      "\n",
      "\n",
      "再次调用amin（）函数：\n",
      "[2 2 3]\n",
      "\n",
      "\n",
      "调用amax()函数：\n",
      "9\n",
      "\n",
      "\n",
      "再次调用amax()函数\n",
      "[7 4 9]\n"
     ]
    }
   ],
   "source": [
    "X = np.array([160,165,157,122,159,126,160,162,121])\n",
    "MIN = np.min(X)\n",
    "MAX = np.max(X)\n",
    "print(MIN)\n",
    "print(MAX)\n",
    "a = np.array([[3,2,5],[7,4,3],[2,4,9]])\n",
    "print('数组是：')\n",
    "print(a)\n",
    "print('\\n')\n",
    "print('调用amin()函数')\n",
    "print(np.amin(a,1))\n",
    "print('\\n')\n",
    "print('再次调用amin（）函数：')\n",
    "print(np.amin(a,0))\n",
    "print('\\n')\n",
    "print('调用amax()函数：')\n",
    "print(np.amax(a))\n",
    "print('\\n')\n",
    "print('再次调用amax()函数')\n",
    "print(np.amax(a,axis=0))"
   ]
  },
  {
   "cell_type": "code",
   "execution_count": 17,
   "id": "3bc57416",
   "metadata": {},
   "outputs": [
    {
     "name": "stdout",
     "output_type": "stream",
     "text": [
      "数组是：\n",
      "[[3 2 5]\n",
      " [7 4 3]\n",
      " [2 4 9]]\n",
      "\n",
      "\n",
      "调用ptp()函数：\n",
      "7\n",
      "\n",
      "\n",
      "沿轴1调用ptp()函数：\n",
      "[3 4 7]\n",
      "\n",
      "\n",
      "沿轴0调用ptp()函数:\n",
      "[5 2 6]\n"
     ]
    }
   ],
   "source": [
    "a = np.array([[3,2,5],[7,4,3],[2,4,9]])\n",
    "print('数组是：')\n",
    "print(a)\n",
    "print('\\n')\n",
    "print('调用ptp()函数：')\n",
    "print(np.ptp(a))\n",
    "print('\\n')\n",
    "print('沿轴1调用ptp()函数：')\n",
    "print(np.ptp(a,axis=1))\n",
    "print('\\n')\n",
    "print('沿轴0调用ptp()函数:')\n",
    "print(np.ptp(a,axis=0))"
   ]
  },
  {
   "cell_type": "code",
   "execution_count": 1,
   "id": "d26f58e1",
   "metadata": {},
   "outputs": [],
   "source": [
    "#习题"
   ]
  },
  {
   "cell_type": "code",
   "execution_count": 2,
   "id": "b64cfd1f",
   "metadata": {},
   "outputs": [],
   "source": [
    "import numpy as np"
   ]
  },
  {
   "cell_type": "code",
   "execution_count": 3,
   "id": "8580ec40",
   "metadata": {},
   "outputs": [],
   "source": [
    "from numpy.linalg import solve"
   ]
  },
  {
   "cell_type": "code",
   "execution_count": 4,
   "id": "caf756e1",
   "metadata": {},
   "outputs": [],
   "source": [
    "a = np.mat([[1,2,4],[4,3,-7],[8,4,2]])"
   ]
  },
  {
   "cell_type": "code",
   "execution_count": 5,
   "id": "cdb6c57f",
   "metadata": {},
   "outputs": [],
   "source": [
    "b = np.mat([7,89,23]).T"
   ]
  },
  {
   "cell_type": "code",
   "execution_count": 6,
   "id": "375c3418",
   "metadata": {},
   "outputs": [
    {
     "name": "stdout",
     "output_type": "stream",
     "text": [
      "[[-5.61904762]\n",
      " [20.54761905]\n",
      " [-7.11904762]]\n"
     ]
    }
   ],
   "source": [
    "x = solve(a,b)\n",
    "print(x)"
   ]
  },
  {
   "cell_type": "code",
   "execution_count": 8,
   "id": "0961f76e",
   "metadata": {},
   "outputs": [],
   "source": [
    "c = np.array([[3,6,7],[2,5,4],[1,8,9]])"
   ]
  },
  {
   "cell_type": "code",
   "execution_count": 9,
   "id": "b6b7774f",
   "metadata": {},
   "outputs": [
    {
     "name": "stdout",
     "output_type": "stream",
     "text": [
      "[[3 2 1]\n",
      " [6 5 8]\n",
      " [7 4 9]]\n"
     ]
    }
   ],
   "source": [
    "print(c.T)"
   ]
  },
  {
   "cell_type": "code",
   "execution_count": 11,
   "id": "574feae2",
   "metadata": {},
   "outputs": [
    {
     "name": "stdout",
     "output_type": "stream",
     "text": [
      "[[ 0.40625  0.0625  -0.34375]\n",
      " [-0.4375   0.625    0.0625 ]\n",
      " [ 0.34375 -0.5625   0.09375]]\n"
     ]
    }
   ],
   "source": [
    "import numpy.linalg as lg\n",
    "print(lg.inv(c))"
   ]
  },
  {
   "cell_type": "code",
   "execution_count": null,
   "id": "df8b114a",
   "metadata": {},
   "outputs": [],
   "source": []
  }
 ],
 "metadata": {
  "kernelspec": {
   "display_name": "Python 3 (ipykernel)",
   "language": "python",
   "name": "python3"
  },
  "language_info": {
   "codemirror_mode": {
    "name": "ipython",
    "version": 3
   },
   "file_extension": ".py",
   "mimetype": "text/x-python",
   "name": "python",
   "nbconvert_exporter": "python",
   "pygments_lexer": "ipython3",
   "version": "3.10.9"
  }
 },
 "nbformat": 4,
 "nbformat_minor": 5
}
